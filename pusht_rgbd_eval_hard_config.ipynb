{
 "cells": [
  {
   "cell_type": "markdown",
   "metadata": {},
   "source": [
    "## Evaluating the visual-based diffusion policy on a hard episode, 250 times across 5 random seeds"
   ]
  },
  {
   "cell_type": "code",
   "execution_count": 1,
   "metadata": {
    "colab": {
     "base_uri": "https://localhost:8080/"
    },
    "executionInfo": {
     "elapsed": 623,
     "status": "ok",
     "timestamp": 1745866616468,
     "user": {
      "displayName": "Kausar Patherya",
      "userId": "09012208137279792936"
     },
     "user_tz": 240
    },
    "id": "X8kG2me3pEVI",
    "outputId": "5f90df95-65c8-4df5-8072-b8bee8967357"
   },
   "outputs": [
    {
     "name": "stdout",
     "output_type": "stream",
     "text": [
      "Drive already mounted at /content/drive; to attempt to forcibly remount, call drive.mount(\"/content/drive\", force_remount=True).\n"
     ]
    }
   ],
   "source": [
    "from google.colab import drive\n",
    "drive.mount('/content/drive')"
   ]
  },
  {
   "cell_type": "code",
   "execution_count": 2,
   "metadata": {
    "colab": {
     "base_uri": "https://localhost:8080/"
    },
    "executionInfo": {
     "elapsed": 10407,
     "status": "ok",
     "timestamp": 1745866626868,
     "user": {
      "displayName": "Kausar Patherya",
      "userId": "09012208137279792936"
     },
     "user_tz": 240
    },
    "id": "6wSon4uqtZHb",
    "outputId": "d2753080-6fea-48a2-8bf8-fade4738d8cb"
   },
   "outputs": [
    {
     "name": "stdout",
     "output_type": "stream",
     "text": [
      "Reading package lists... Done\n",
      "Building dependency tree... Done\n",
      "Reading state information... Done\n",
      "libvulkan-dev is already the newest version (1.3.204.1-2).\n",
      "0 upgraded, 0 newly installed, 0 to remove and 34 not upgraded.\n",
      "Requirement already satisfied: mani_skill in /usr/local/lib/python3.11/dist-packages (3.0.0b20)\n",
      "Requirement already satisfied: tyro in /usr/local/lib/python3.11/dist-packages (0.9.19)\n",
      "Requirement already satisfied: numpy<2.0.0,>=1.22 in /usr/local/lib/python3.11/dist-packages (from mani_skill) (1.26.4)\n",
      "Requirement already satisfied: scipy in /usr/local/lib/python3.11/dist-packages (from mani_skill) (1.15.2)\n",
      "Requirement already satisfied: dacite in /usr/local/lib/python3.11/dist-packages (from mani_skill) (1.9.2)\n",
      "Requirement already satisfied: gymnasium==0.29.1 in /usr/local/lib/python3.11/dist-packages (from mani_skill) (0.29.1)\n",
      "Requirement already satisfied: sapien==3.0.0.b1 in /usr/local/lib/python3.11/dist-packages (from mani_skill) (3.0.0b1)\n",
      "Requirement already satisfied: h5py in /usr/local/lib/python3.11/dist-packages (from mani_skill) (3.13.0)\n",
      "Requirement already satisfied: pyyaml in /usr/local/lib/python3.11/dist-packages (from mani_skill) (6.0.2)\n",
      "Requirement already satisfied: tqdm in /usr/local/lib/python3.11/dist-packages (from mani_skill) (4.67.1)\n",
      "Requirement already satisfied: GitPython in /usr/local/lib/python3.11/dist-packages (from mani_skill) (3.1.44)\n",
      "Requirement already satisfied: tabulate in /usr/local/lib/python3.11/dist-packages (from mani_skill) (0.9.0)\n",
      "Requirement already satisfied: transforms3d in /usr/local/lib/python3.11/dist-packages (from mani_skill) (0.4.2)\n",
      "Requirement already satisfied: trimesh in /usr/local/lib/python3.11/dist-packages (from mani_skill) (4.6.8)\n",
      "Requirement already satisfied: imageio in /usr/local/lib/python3.11/dist-packages (from mani_skill) (2.37.0)\n",
      "Requirement already satisfied: mplib==0.1.1 in /usr/local/lib/python3.11/dist-packages (from mani_skill) (0.1.1)\n",
      "Requirement already satisfied: fast_kinematics==0.2.2 in /usr/local/lib/python3.11/dist-packages (from mani_skill) (0.2.2)\n",
      "Requirement already satisfied: IPython in /usr/local/lib/python3.11/dist-packages (from mani_skill) (7.34.0)\n",
      "Requirement already satisfied: pytorch_kinematics==0.7.5 in /usr/local/lib/python3.11/dist-packages (from mani_skill) (0.7.5)\n",
      "Requirement already satisfied: pynvml in /usr/local/lib/python3.11/dist-packages (from mani_skill) (12.0.0)\n",
      "Requirement already satisfied: huggingface_hub in /usr/local/lib/python3.11/dist-packages (from mani_skill) (0.30.2)\n",
      "Requirement already satisfied: cloudpickle>=1.2.0 in /usr/local/lib/python3.11/dist-packages (from gymnasium==0.29.1->mani_skill) (3.1.1)\n",
      "Requirement already satisfied: typing-extensions>=4.3.0 in /usr/local/lib/python3.11/dist-packages (from gymnasium==0.29.1->mani_skill) (4.13.2)\n",
      "Requirement already satisfied: farama-notifications>=0.0.1 in /usr/local/lib/python3.11/dist-packages (from gymnasium==0.29.1->mani_skill) (0.0.4)\n",
      "Requirement already satisfied: toppra>=0.4.0 in /usr/local/lib/python3.11/dist-packages (from mplib==0.1.1->mani_skill) (0.6.3)\n",
      "Requirement already satisfied: absl-py in /usr/local/lib/python3.11/dist-packages (from pytorch_kinematics==0.7.5->mani_skill) (1.4.0)\n",
      "Requirement already satisfied: lxml in /usr/local/lib/python3.11/dist-packages (from pytorch_kinematics==0.7.5->mani_skill) (5.4.0)\n",
      "Requirement already satisfied: torch in /usr/local/lib/python3.11/dist-packages (from pytorch_kinematics==0.7.5->mani_skill) (2.6.0+cu124)\n",
      "Requirement already satisfied: matplotlib in /usr/local/lib/python3.11/dist-packages (from pytorch_kinematics==0.7.5->mani_skill) (3.10.0)\n",
      "Requirement already satisfied: pytorch-seed in /usr/local/lib/python3.11/dist-packages (from pytorch_kinematics==0.7.5->mani_skill) (0.2.0)\n",
      "Requirement already satisfied: arm-pytorch-utilities in /usr/local/lib/python3.11/dist-packages (from pytorch_kinematics==0.7.5->mani_skill) (0.4.3)\n",
      "Requirement already satisfied: requests>=2.22 in /usr/local/lib/python3.11/dist-packages (from sapien==3.0.0.b1->mani_skill) (2.32.3)\n",
      "Requirement already satisfied: networkx in /usr/local/lib/python3.11/dist-packages (from sapien==3.0.0.b1->mani_skill) (3.4.2)\n",
      "Requirement already satisfied: pyperclip in /usr/local/lib/python3.11/dist-packages (from sapien==3.0.0.b1->mani_skill) (1.9.0)\n",
      "Requirement already satisfied: opencv-python>=4.0 in /usr/local/lib/python3.11/dist-packages (from sapien==3.0.0.b1->mani_skill) (4.11.0.86)\n",
      "Requirement already satisfied: docstring-parser>=0.15 in /usr/local/lib/python3.11/dist-packages (from tyro) (0.16)\n",
      "Requirement already satisfied: rich>=11.1.0 in /usr/local/lib/python3.11/dist-packages (from tyro) (13.9.4)\n",
      "Requirement already satisfied: shtab>=1.5.6 in /usr/local/lib/python3.11/dist-packages (from tyro) (1.7.2)\n",
      "Requirement already satisfied: typeguard>=4.0.0 in /usr/local/lib/python3.11/dist-packages (from tyro) (4.4.2)\n",
      "Requirement already satisfied: markdown-it-py>=2.2.0 in /usr/local/lib/python3.11/dist-packages (from rich>=11.1.0->tyro) (3.0.0)\n",
      "Requirement already satisfied: pygments<3.0.0,>=2.13.0 in /usr/local/lib/python3.11/dist-packages (from rich>=11.1.0->tyro) (2.19.1)\n",
      "Requirement already satisfied: gitdb<5,>=4.0.1 in /usr/local/lib/python3.11/dist-packages (from GitPython->mani_skill) (4.0.12)\n",
      "Requirement already satisfied: filelock in /usr/local/lib/python3.11/dist-packages (from huggingface_hub->mani_skill) (3.18.0)\n",
      "Requirement already satisfied: fsspec>=2023.5.0 in /usr/local/lib/python3.11/dist-packages (from huggingface_hub->mani_skill) (2025.3.2)\n",
      "Requirement already satisfied: packaging>=20.9 in /usr/local/lib/python3.11/dist-packages (from huggingface_hub->mani_skill) (24.2)\n",
      "Requirement already satisfied: pillow>=8.3.2 in /usr/local/lib/python3.11/dist-packages (from imageio->mani_skill) (11.2.1)\n",
      "Requirement already satisfied: imageio-ffmpeg in /usr/local/lib/python3.11/dist-packages (from imageio[ffmpeg]->mani_skill) (0.6.0)\n",
      "Requirement already satisfied: psutil in /usr/local/lib/python3.11/dist-packages (from imageio[ffmpeg]->mani_skill) (5.9.5)\n",
      "Requirement already satisfied: setuptools>=18.5 in /usr/local/lib/python3.11/dist-packages (from IPython->mani_skill) (75.2.0)\n",
      "Requirement already satisfied: jedi>=0.16 in /usr/local/lib/python3.11/dist-packages (from IPython->mani_skill) (0.19.2)\n",
      "Requirement already satisfied: decorator in /usr/local/lib/python3.11/dist-packages (from IPython->mani_skill) (4.4.2)\n",
      "Requirement already satisfied: pickleshare in /usr/local/lib/python3.11/dist-packages (from IPython->mani_skill) (0.7.5)\n",
      "Requirement already satisfied: traitlets>=4.2 in /usr/local/lib/python3.11/dist-packages (from IPython->mani_skill) (5.7.1)\n",
      "Requirement already satisfied: prompt-toolkit!=3.0.0,!=3.0.1,<3.1.0,>=2.0.0 in /usr/local/lib/python3.11/dist-packages (from IPython->mani_skill) (3.0.51)\n",
      "Requirement already satisfied: backcall in /usr/local/lib/python3.11/dist-packages (from IPython->mani_skill) (0.2.0)\n",
      "Requirement already satisfied: matplotlib-inline in /usr/local/lib/python3.11/dist-packages (from IPython->mani_skill) (0.1.7)\n",
      "Requirement already satisfied: pexpect>4.3 in /usr/local/lib/python3.11/dist-packages (from IPython->mani_skill) (4.9.0)\n",
      "Requirement already satisfied: nvidia-ml-py<13.0.0a0,>=12.0.0 in /usr/local/lib/python3.11/dist-packages (from pynvml->mani_skill) (12.570.86)\n",
      "Requirement already satisfied: smmap<6,>=3.0.1 in /usr/local/lib/python3.11/dist-packages (from gitdb<5,>=4.0.1->GitPython->mani_skill) (5.0.2)\n",
      "Requirement already satisfied: parso<0.9.0,>=0.8.4 in /usr/local/lib/python3.11/dist-packages (from jedi>=0.16->IPython->mani_skill) (0.8.4)\n",
      "Requirement already satisfied: mdurl~=0.1 in /usr/local/lib/python3.11/dist-packages (from markdown-it-py>=2.2.0->rich>=11.1.0->tyro) (0.1.2)\n",
      "Requirement already satisfied: ptyprocess>=0.5 in /usr/local/lib/python3.11/dist-packages (from pexpect>4.3->IPython->mani_skill) (0.7.0)\n",
      "Requirement already satisfied: wcwidth in /usr/local/lib/python3.11/dist-packages (from prompt-toolkit!=3.0.0,!=3.0.1,<3.1.0,>=2.0.0->IPython->mani_skill) (0.2.13)\n",
      "Requirement already satisfied: charset-normalizer<4,>=2 in /usr/local/lib/python3.11/dist-packages (from requests>=2.22->sapien==3.0.0.b1->mani_skill) (3.4.1)\n",
      "Requirement already satisfied: idna<4,>=2.5 in /usr/local/lib/python3.11/dist-packages (from requests>=2.22->sapien==3.0.0.b1->mani_skill) (3.10)\n",
      "Requirement already satisfied: urllib3<3,>=1.21.1 in /usr/local/lib/python3.11/dist-packages (from requests>=2.22->sapien==3.0.0.b1->mani_skill) (2.4.0)\n",
      "Requirement already satisfied: certifi>=2017.4.17 in /usr/local/lib/python3.11/dist-packages (from requests>=2.22->sapien==3.0.0.b1->mani_skill) (2025.1.31)\n",
      "Requirement already satisfied: contourpy>=1.0.1 in /usr/local/lib/python3.11/dist-packages (from matplotlib->pytorch_kinematics==0.7.5->mani_skill) (1.3.2)\n",
      "Requirement already satisfied: cycler>=0.10 in /usr/local/lib/python3.11/dist-packages (from matplotlib->pytorch_kinematics==0.7.5->mani_skill) (0.12.1)\n",
      "Requirement already satisfied: fonttools>=4.22.0 in /usr/local/lib/python3.11/dist-packages (from matplotlib->pytorch_kinematics==0.7.5->mani_skill) (4.57.0)\n",
      "Requirement already satisfied: kiwisolver>=1.3.1 in /usr/local/lib/python3.11/dist-packages (from matplotlib->pytorch_kinematics==0.7.5->mani_skill) (1.4.8)\n",
      "Requirement already satisfied: pyparsing>=2.3.1 in /usr/local/lib/python3.11/dist-packages (from matplotlib->pytorch_kinematics==0.7.5->mani_skill) (3.2.3)\n",
      "Requirement already satisfied: python-dateutil>=2.7 in /usr/local/lib/python3.11/dist-packages (from matplotlib->pytorch_kinematics==0.7.5->mani_skill) (2.9.0.post0)\n",
      "Requirement already satisfied: jinja2 in /usr/local/lib/python3.11/dist-packages (from torch->pytorch_kinematics==0.7.5->mani_skill) (3.1.6)\n",
      "Requirement already satisfied: nvidia-cuda-nvrtc-cu12==12.4.127 in /usr/local/lib/python3.11/dist-packages (from torch->pytorch_kinematics==0.7.5->mani_skill) (12.4.127)\n",
      "Requirement already satisfied: nvidia-cuda-runtime-cu12==12.4.127 in /usr/local/lib/python3.11/dist-packages (from torch->pytorch_kinematics==0.7.5->mani_skill) (12.4.127)\n",
      "Requirement already satisfied: nvidia-cuda-cupti-cu12==12.4.127 in /usr/local/lib/python3.11/dist-packages (from torch->pytorch_kinematics==0.7.5->mani_skill) (12.4.127)\n",
      "Requirement already satisfied: nvidia-cudnn-cu12==9.1.0.70 in /usr/local/lib/python3.11/dist-packages (from torch->pytorch_kinematics==0.7.5->mani_skill) (9.1.0.70)\n",
      "Requirement already satisfied: nvidia-cublas-cu12==12.4.5.8 in /usr/local/lib/python3.11/dist-packages (from torch->pytorch_kinematics==0.7.5->mani_skill) (12.4.5.8)\n",
      "Requirement already satisfied: nvidia-cufft-cu12==11.2.1.3 in /usr/local/lib/python3.11/dist-packages (from torch->pytorch_kinematics==0.7.5->mani_skill) (11.2.1.3)\n",
      "Requirement already satisfied: nvidia-curand-cu12==10.3.5.147 in /usr/local/lib/python3.11/dist-packages (from torch->pytorch_kinematics==0.7.5->mani_skill) (10.3.5.147)\n",
      "Requirement already satisfied: nvidia-cusolver-cu12==11.6.1.9 in /usr/local/lib/python3.11/dist-packages (from torch->pytorch_kinematics==0.7.5->mani_skill) (11.6.1.9)\n",
      "Requirement already satisfied: nvidia-cusparse-cu12==12.3.1.170 in /usr/local/lib/python3.11/dist-packages (from torch->pytorch_kinematics==0.7.5->mani_skill) (12.3.1.170)\n",
      "Requirement already satisfied: nvidia-cusparselt-cu12==0.6.2 in /usr/local/lib/python3.11/dist-packages (from torch->pytorch_kinematics==0.7.5->mani_skill) (0.6.2)\n",
      "Requirement already satisfied: nvidia-nccl-cu12==2.21.5 in /usr/local/lib/python3.11/dist-packages (from torch->pytorch_kinematics==0.7.5->mani_skill) (2.21.5)\n",
      "Requirement already satisfied: nvidia-nvtx-cu12==12.4.127 in /usr/local/lib/python3.11/dist-packages (from torch->pytorch_kinematics==0.7.5->mani_skill) (12.4.127)\n",
      "Requirement already satisfied: nvidia-nvjitlink-cu12==12.4.127 in /usr/local/lib/python3.11/dist-packages (from torch->pytorch_kinematics==0.7.5->mani_skill) (12.4.127)\n",
      "Requirement already satisfied: triton==3.2.0 in /usr/local/lib/python3.11/dist-packages (from torch->pytorch_kinematics==0.7.5->mani_skill) (3.2.0)\n",
      "Requirement already satisfied: sympy==1.13.1 in /usr/local/lib/python3.11/dist-packages (from torch->pytorch_kinematics==0.7.5->mani_skill) (1.13.1)\n",
      "Requirement already satisfied: mpmath<1.4,>=1.1.0 in /usr/local/lib/python3.11/dist-packages (from sympy==1.13.1->torch->pytorch_kinematics==0.7.5->mani_skill) (1.3.0)\n",
      "Requirement already satisfied: six>=1.5 in /usr/local/lib/python3.11/dist-packages (from python-dateutil>=2.7->matplotlib->pytorch_kinematics==0.7.5->mani_skill) (1.17.0)\n",
      "Requirement already satisfied: MarkupSafe>=2.0 in /usr/local/lib/python3.11/dist-packages (from jinja2->torch->pytorch_kinematics==0.7.5->mani_skill) (3.0.2)\n"
     ]
    }
   ],
   "source": [
    "# setup vulkan\n",
    "!mkdir -p /usr/share/vulkan/icd.d\n",
    "!wget -q https://raw.githubusercontent.com/haosulab/ManiSkill/main/docker/nvidia_icd.json\n",
    "!wget -q https://raw.githubusercontent.com/haosulab/ManiSkill/main/docker/10_nvidia.json\n",
    "!mv nvidia_icd.json /usr/share/vulkan/icd.d\n",
    "!mv 10_nvidia.json /usr/share/glvnd/egl_vendor.d/10_nvidia.json\n",
    "!apt-get install -y --no-install-recommends libvulkan-dev\n",
    "# dependencies\n",
    "!pip install --upgrade mani_skill tyro"
   ]
  },
  {
   "cell_type": "code",
   "execution_count": 3,
   "metadata": {
    "executionInfo": {
     "elapsed": 8542,
     "status": "ok",
     "timestamp": 1745866635420,
     "user": {
      "displayName": "Kausar Patherya",
      "userId": "09012208137279792936"
     },
     "user_tz": 240
    },
    "id": "OMX42xqUtbk2"
   },
   "outputs": [],
   "source": [
    "# Import required packages\n",
    "import gymnasium as gym\n",
    "from tqdm.notebook import tqdm\n",
    "import numpy as np\n",
    "import mani_skill.envs\n",
    "import matplotlib.pyplot as plt"
   ]
  },
  {
   "cell_type": "code",
   "execution_count": 4,
   "metadata": {
    "executionInfo": {
     "elapsed": 3,
     "status": "ok",
     "timestamp": 1745866635427,
     "user": {
      "displayName": "Kausar Patherya",
      "userId": "09012208137279792936"
     },
     "user_tz": 240
    },
    "id": "qNVCOAhVtdh2"
   },
   "outputs": [],
   "source": [
    "import sys\n",
    "sys.path.append('/content/drive/MyDrive/diffusionpolicy')"
   ]
  },
  {
   "cell_type": "code",
   "execution_count": 5,
   "metadata": {
    "executionInfo": {
     "elapsed": 22976,
     "status": "ok",
     "timestamp": 1745866658408,
     "user": {
      "displayName": "Kausar Patherya",
      "userId": "09012208137279792936"
     },
     "user_tz": 240
    },
    "id": "87YBRkilth7t"
   },
   "outputs": [],
   "source": [
    "from diffusion_policy.evaluate import evaluate\n",
    "from diffusion_policy.make_env import make_eval_envs\n",
    "from train_rgbd_2b import Agent, Args\n",
    "import torch\n",
    "import numpy as np"
   ]
  },
  {
   "cell_type": "code",
   "execution_count": 6,
   "metadata": {
    "colab": {
     "base_uri": "https://localhost:8080/"
    },
    "executionInfo": {
     "elapsed": 296,
     "status": "ok",
     "timestamp": 1745866658708,
     "user": {
      "displayName": "Kausar Patherya",
      "userId": "09012208137279792936"
     },
     "user_tz": 240
    },
    "id": "160vDmPovklO",
    "outputId": "c6b0ff06-08de-480f-f49f-21e19a5d7c8d"
   },
   "outputs": [
    {
     "name": "stdout",
     "output_type": "stream",
     "text": [
      "best_eval_success_once.pt\n"
     ]
    }
   ],
   "source": [
    "!ls /content/drive/MyDrive/diffusionpolicy/runs/diffusion_policy-PushT-v1-rgbd-2b-00_rl_demos-/checkpoints"
   ]
  },
  {
   "cell_type": "code",
   "execution_count": 17,
   "metadata": {
    "executionInfo": {
     "elapsed": 202,
     "status": "ok",
     "timestamp": 1745867021149,
     "user": {
      "displayName": "Kausar Patherya",
      "userId": "09012208137279792936"
     },
     "user_tz": 240
    },
    "id": "9jEDUBGOpKyM"
   },
   "outputs": [],
   "source": [
    "ckpt_path = \"/content/drive/MyDrive/diffusionpolicy/runs/diffusion_policy-PushT-v1-rgbd-2b-00_rl_demos-/checkpoints/best_eval_success_once.pt\"\n",
    "ckpt = torch.load(ckpt_path, map_location='cuda')"
   ]
  },
  {
   "cell_type": "code",
   "execution_count": 18,
   "metadata": {
    "executionInfo": {
     "elapsed": 7,
     "status": "ok",
     "timestamp": 1745867023604,
     "user": {
      "displayName": "Kausar Patherya",
      "userId": "09012208137279792936"
     },
     "user_tz": 240
    },
    "id": "gLocn153tnWw"
   },
   "outputs": [],
   "source": [
    "args = Args(\n",
    "    env_id=\"PushT-v1\",\n",
    "    obs_mode=\"rgbd\",\n",
    "    control_mode=\"pd_ee_delta_pos\",\n",
    "    sim_backend=\"physx_cuda\",\n",
    "    num_eval_envs=10,\n",
    "    max_episode_steps=100,\n",
    "    obs_horizon=2\n",
    ")"
   ]
  },
  {
   "cell_type": "code",
   "execution_count": 19,
   "metadata": {
    "executionInfo": {
     "elapsed": 28,
     "status": "ok",
     "timestamp": 1745867024295,
     "user": {
      "displayName": "Kausar Patherya",
      "userId": "09012208137279792936"
     },
     "user_tz": 240
    },
    "id": "2LnzFISNxV1T"
   },
   "outputs": [],
   "source": [
    "env_kwargs = dict(\n",
    "      control_mode=args.control_mode,\n",
    "      reward_mode=\"sparse\",\n",
    "      obs_mode=args.obs_mode,\n",
    "      render_mode=\"rgb_array\",\n",
    "      human_render_camera_configs=dict(shader_pack=\"default\")\n",
    ")\n",
    "\n",
    "other_kwargs = dict(obs_horizon=args.obs_horizon)"
   ]
  },
  {
   "cell_type": "code",
   "execution_count": 21,
   "metadata": {
    "executionInfo": {
     "elapsed": 1144,
     "status": "ok",
     "timestamp": 1745867030787,
     "user": {
      "displayName": "Kausar Patherya",
      "userId": "09012208137279792936"
     },
     "user_tz": 240
    },
    "id": "rzTJ55hPtpV2"
   },
   "outputs": [],
   "source": [
    "from mani_skill.utils.wrappers.flatten import FlattenRGBDObservationWrapper\n",
    "\n",
    "envs = make_eval_envs(\n",
    "    args.env_id,\n",
    "    args.num_eval_envs,\n",
    "    args.sim_backend,\n",
    "    env_kwargs,\n",
    "    other_kwargs,\n",
    "    video_dir=None,\n",
    "    wrappers=[FlattenRGBDObservationWrapper],\n",
    ")"
   ]
  },
  {
   "cell_type": "code",
   "execution_count": 22,
   "metadata": {
    "colab": {
     "base_uri": "https://localhost:8080/"
    },
    "executionInfo": {
     "elapsed": 77,
     "status": "ok",
     "timestamp": 1745867033235,
     "user": {
      "displayName": "Kausar Patherya",
      "userId": "09012208137279792936"
     },
     "user_tz": 240
    },
    "id": "mJ5ewbrIq2iW",
    "outputId": "9a549992-d1a4-4aa2-8295-21acd0088b58"
   },
   "outputs": [
    {
     "name": "stdout",
     "output_type": "stream",
     "text": [
      "number of parameters: 6.07M\n"
     ]
    }
   ],
   "source": [
    "agent = Agent(envs, args)\n",
    "agent.load_state_dict(ckpt[\"ema_agent\"])\n",
    "agent.eval()\n",
    "agent = agent.to(torch.device(\"cuda\" if torch.cuda.is_available() else \"cpu\"))"
   ]
  },
  {
   "cell_type": "code",
   "execution_count": 24,
   "metadata": {
    "executionInfo": {
     "elapsed": 42,
     "status": "ok",
     "timestamp": 1745867333842,
     "user": {
      "displayName": "Kausar Patherya",
      "userId": "09012208137279792936"
     },
     "user_tz": 240
    },
    "id": "VMDndiIBzMi7"
   },
   "outputs": [],
   "source": [
    "device = torch.device(\"cuda\" if torch.cuda.is_available() else \"cpu\")\n",
    "agent = agent.to(device)\n",
    "agent.device = device"
   ]
  },
  {
   "cell_type": "code",
   "execution_count": 25,
   "metadata": {
    "colab": {
     "base_uri": "https://localhost:8080/"
    },
    "executionInfo": {
     "elapsed": 2289349,
     "status": "ok",
     "timestamp": 1745869625402,
     "user": {
      "displayName": "Kausar Patherya",
      "userId": "09012208137279792936"
     },
     "user_tz": 240
    },
    "id": "XHvmF56-t7eA",
    "outputId": "d950b485-793e-4266-a8b7-b15de85f6403"
   },
   "outputs": [
    {
     "name": "stderr",
     "output_type": "stream",
     "text": [
      "\n",
      "  0%|          | 0/250 [00:00<?, ?it/s]\u001b[A\n",
      "  4%|▍         | 10/250 [00:20<08:05,  2.02s/it]\u001b[A\n",
      "  8%|▊         | 20/250 [00:37<07:09,  1.87s/it]\u001b[A\n",
      " 12%|█▏        | 30/250 [00:55<06:39,  1.82s/it]\u001b[A\n",
      " 16%|█▌        | 40/250 [01:14<06:26,  1.84s/it]\u001b[A\n",
      " 20%|██        | 50/250 [01:32<06:09,  1.85s/it]\u001b[A\n",
      " 24%|██▍       | 60/250 [01:51<05:55,  1.87s/it]\u001b[A\n",
      " 28%|██▊       | 70/250 [02:10<05:35,  1.86s/it]\u001b[A\n",
      " 32%|███▏      | 80/250 [02:29<05:17,  1.87s/it]\u001b[A\n",
      " 36%|███▌      | 90/250 [02:47<04:59,  1.87s/it]\u001b[A\n",
      " 40%|████      | 100/250 [03:05<04:34,  1.83s/it]\u001b[A\n",
      " 44%|████▍     | 110/250 [03:23<04:17,  1.84s/it]\u001b[A\n",
      " 48%|████▊     | 120/250 [03:41<03:56,  1.82s/it]\u001b[A\n",
      " 52%|█████▏    | 130/250 [03:59<03:37,  1.81s/it]\u001b[A\n",
      " 56%|█████▌    | 140/250 [04:18<03:21,  1.83s/it]\u001b[A\n",
      " 60%|██████    | 150/250 [04:36<03:04,  1.84s/it]\u001b[A\n",
      " 64%|██████▍   | 160/250 [04:56<02:48,  1.87s/it]\u001b[A\n",
      " 68%|██████▊   | 170/250 [05:15<02:30,  1.88s/it]\u001b[A\n",
      " 72%|███████▏  | 180/250 [05:34<02:12,  1.89s/it]\u001b[A\n",
      " 76%|███████▌  | 190/250 [05:52<01:51,  1.86s/it]\u001b[A\n",
      " 80%|████████  | 200/250 [06:09<01:31,  1.83s/it]\u001b[A\n",
      " 84%|████████▍ | 210/250 [06:28<01:13,  1.83s/it]\u001b[A\n",
      " 88%|████████▊ | 220/250 [06:45<00:54,  1.81s/it]\u001b[A\n",
      " 92%|█████████▏| 230/250 [07:03<00:36,  1.80s/it]\u001b[A\n",
      " 96%|█████████▌| 240/250 [07:22<00:18,  1.81s/it]\u001b[A\n",
      "100%|██████████| 250/250 [07:39<00:00,  1.84s/it]\n"
     ]
    },
    {
     "name": "stdout",
     "output_type": "stream",
     "text": [
      "Seed 0: success_once mean=0.0000, success_at_end mean=0.0000\n"
     ]
    },
    {
     "name": "stderr",
     "output_type": "stream",
     "text": [
      "\n",
      "  0%|          | 0/250 [00:00<?, ?it/s]\u001b[A\n",
      "  4%|▍         | 10/250 [00:19<07:39,  1.92s/it]\u001b[A\n",
      "  8%|▊         | 20/250 [00:36<06:59,  1.82s/it]\u001b[A\n",
      " 12%|█▏        | 30/250 [00:54<06:37,  1.81s/it]\u001b[A\n",
      " 16%|█▌        | 40/250 [01:12<06:19,  1.81s/it]\u001b[A\n",
      " 20%|██        | 50/250 [01:30<05:58,  1.79s/it]\u001b[A\n",
      " 24%|██▍       | 60/250 [01:48<05:42,  1.80s/it]\u001b[A\n",
      " 28%|██▊       | 70/250 [02:07<05:28,  1.83s/it]\u001b[A\n",
      " 32%|███▏      | 80/250 [02:26<05:15,  1.85s/it]\u001b[A\n",
      " 36%|███▌      | 90/250 [02:45<05:00,  1.88s/it]\u001b[A\n",
      " 40%|████      | 100/250 [03:04<04:42,  1.88s/it]\u001b[A\n",
      " 44%|████▍     | 110/250 [03:23<04:23,  1.88s/it]\u001b[A\n",
      " 48%|████▊     | 120/250 [03:40<03:59,  1.84s/it]\u001b[A\n",
      " 52%|█████▏    | 130/250 [03:58<03:39,  1.83s/it]\u001b[A\n",
      " 56%|█████▌    | 140/250 [04:17<03:21,  1.83s/it]\u001b[A\n",
      " 60%|██████    | 150/250 [04:35<03:03,  1.83s/it]\u001b[A\n",
      " 64%|██████▍   | 160/250 [04:54<02:47,  1.86s/it]\u001b[A\n",
      " 68%|██████▊   | 170/250 [05:13<02:28,  1.86s/it]\u001b[A\n",
      " 72%|███████▏  | 180/250 [05:32<02:11,  1.88s/it]\u001b[A\n",
      " 76%|███████▌  | 190/250 [05:51<01:52,  1.87s/it]\u001b[A\n",
      " 80%|████████  | 200/250 [06:09<01:32,  1.86s/it]\u001b[A\n",
      " 84%|████████▍ | 210/250 [06:27<01:14,  1.85s/it]\u001b[A\n",
      " 88%|████████▊ | 220/250 [06:45<00:55,  1.84s/it]\u001b[A\n",
      " 92%|█████████▏| 230/250 [07:04<00:36,  1.84s/it]\u001b[A\n",
      " 96%|█████████▌| 240/250 [07:22<00:18,  1.83s/it]\u001b[A\n",
      "100%|██████████| 250/250 [07:41<00:00,  1.85s/it]\n"
     ]
    },
    {
     "name": "stdout",
     "output_type": "stream",
     "text": [
      "Seed 1: success_once mean=0.0000, success_at_end mean=0.0000\n"
     ]
    },
    {
     "name": "stderr",
     "output_type": "stream",
     "text": [
      "\n",
      "  0%|          | 0/250 [00:00<?, ?it/s]\u001b[A\n",
      "  4%|▍         | 10/250 [00:19<07:53,  1.97s/it]\u001b[A\n",
      "  8%|▊         | 20/250 [00:38<07:21,  1.92s/it]\u001b[A\n",
      " 12%|█▏        | 30/250 [00:57<06:58,  1.90s/it]\u001b[A\n",
      " 16%|█▌        | 40/250 [01:15<06:30,  1.86s/it]\u001b[A\n",
      " 20%|██        | 50/250 [01:33<06:09,  1.85s/it]\u001b[A\n",
      " 24%|██▍       | 60/250 [01:50<05:44,  1.81s/it]\u001b[A\n",
      " 28%|██▊       | 70/250 [02:08<05:23,  1.80s/it]\u001b[A\n",
      " 32%|███▏      | 80/250 [02:27<05:08,  1.81s/it]\u001b[A\n",
      " 36%|███▌      | 90/250 [02:44<04:47,  1.80s/it]\u001b[A\n",
      " 40%|████      | 100/250 [03:02<04:29,  1.80s/it]\u001b[A\n",
      " 44%|████▍     | 110/250 [03:20<04:11,  1.80s/it]\u001b[A\n",
      " 48%|████▊     | 120/250 [03:38<03:52,  1.79s/it]\u001b[A\n",
      " 52%|█████▏    | 130/250 [03:56<03:36,  1.80s/it]\u001b[A\n",
      " 56%|█████▌    | 140/250 [04:14<03:17,  1.79s/it]\u001b[A\n",
      " 60%|██████    | 150/250 [04:32<02:59,  1.79s/it]\u001b[A\n",
      " 64%|██████▍   | 160/250 [04:50<02:42,  1.81s/it]\u001b[A\n",
      " 68%|██████▊   | 170/250 [05:08<02:23,  1.80s/it]\u001b[A\n",
      " 72%|███████▏  | 180/250 [05:27<02:06,  1.81s/it]\u001b[A\n",
      " 76%|███████▌  | 190/250 [05:44<01:48,  1.80s/it]\u001b[A\n",
      " 80%|████████  | 200/250 [06:02<01:29,  1.79s/it]\u001b[A\n",
      " 84%|████████▍ | 210/250 [06:20<01:12,  1.81s/it]\u001b[A\n",
      " 88%|████████▊ | 220/250 [06:38<00:53,  1.80s/it]\u001b[A\n",
      " 92%|█████████▏| 230/250 [06:56<00:35,  1.79s/it]\u001b[A\n",
      " 96%|█████████▌| 240/250 [07:14<00:18,  1.80s/it]\u001b[A\n",
      "100%|██████████| 250/250 [07:32<00:00,  1.81s/it]\n"
     ]
    },
    {
     "name": "stdout",
     "output_type": "stream",
     "text": [
      "Seed 2: success_once mean=0.0000, success_at_end mean=0.0000\n"
     ]
    },
    {
     "name": "stderr",
     "output_type": "stream",
     "text": [
      "\n",
      "  0%|          | 0/250 [00:00<?, ?it/s]\u001b[A\n",
      "  4%|▍         | 10/250 [00:19<07:50,  1.96s/it]\u001b[A\n",
      "  8%|▊         | 20/250 [00:37<07:09,  1.87s/it]\u001b[A\n",
      " 12%|█▏        | 30/250 [00:56<06:56,  1.89s/it]\u001b[A\n",
      " 16%|█▌        | 40/250 [01:14<06:28,  1.85s/it]\u001b[A\n",
      " 20%|██        | 50/250 [01:32<06:04,  1.82s/it]\u001b[A\n",
      " 24%|██▍       | 60/250 [01:51<05:49,  1.84s/it]\u001b[A\n",
      " 28%|██▊       | 70/250 [02:08<05:27,  1.82s/it]\u001b[A\n",
      " 32%|███▏      | 80/250 [02:27<05:09,  1.82s/it]\u001b[A\n",
      " 36%|███▌      | 90/250 [02:45<04:50,  1.81s/it]\u001b[A\n",
      " 40%|████      | 100/250 [03:03<04:31,  1.81s/it]\u001b[A\n",
      " 44%|████▍     | 110/250 [03:21<04:16,  1.83s/it]\u001b[A\n",
      " 48%|████▊     | 120/250 [03:39<03:55,  1.81s/it]\u001b[A\n",
      " 52%|█████▏    | 130/250 [03:57<03:36,  1.81s/it]\u001b[A\n",
      " 56%|█████▌    | 140/250 [04:15<03:19,  1.81s/it]\u001b[A\n",
      " 60%|██████    | 150/250 [04:33<02:59,  1.80s/it]\u001b[A\n",
      " 64%|██████▍   | 160/250 [04:51<02:43,  1.81s/it]\u001b[A\n",
      " 68%|██████▊   | 170/250 [05:09<02:24,  1.81s/it]\u001b[A\n",
      " 72%|███████▏  | 180/250 [05:27<02:06,  1.80s/it]\u001b[A\n",
      " 76%|███████▌  | 190/250 [05:46<01:48,  1.81s/it]\u001b[A\n",
      " 80%|████████  | 200/250 [06:03<01:29,  1.80s/it]\u001b[A\n",
      " 84%|████████▍ | 210/250 [06:21<01:11,  1.80s/it]\u001b[A\n",
      " 88%|████████▊ | 220/250 [06:39<00:54,  1.80s/it]\u001b[A\n",
      " 92%|█████████▏| 230/250 [06:57<00:35,  1.79s/it]\u001b[A\n",
      " 96%|█████████▌| 240/250 [07:15<00:18,  1.81s/it]\u001b[A\n",
      "100%|██████████| 250/250 [07:33<00:00,  1.82s/it]\n"
     ]
    },
    {
     "name": "stdout",
     "output_type": "stream",
     "text": [
      "Seed 3: success_once mean=0.0000, success_at_end mean=0.0000\n"
     ]
    },
    {
     "name": "stderr",
     "output_type": "stream",
     "text": [
      "\n",
      "  0%|          | 0/250 [00:00<?, ?it/s]\u001b[A\n",
      "  4%|▍         | 10/250 [00:19<07:42,  1.93s/it]\u001b[A\n",
      "  8%|▊         | 20/250 [00:37<07:04,  1.85s/it]\u001b[A\n",
      " 12%|█▏        | 30/250 [00:54<06:39,  1.82s/it]\u001b[A\n",
      " 16%|█▌        | 40/250 [01:13<06:26,  1.84s/it]\u001b[A\n",
      " 20%|██        | 50/250 [01:31<06:03,  1.82s/it]\u001b[A\n",
      " 24%|██▍       | 60/250 [01:49<05:45,  1.82s/it]\u001b[A\n",
      " 28%|██▊       | 70/250 [02:07<05:27,  1.82s/it]\u001b[A\n",
      " 32%|███▏      | 80/250 [02:25<05:07,  1.81s/it]\u001b[A\n",
      " 36%|███▌      | 90/250 [02:44<04:51,  1.82s/it]\u001b[A\n",
      " 40%|████      | 100/250 [03:02<04:32,  1.82s/it]\u001b[A\n",
      " 44%|████▍     | 110/250 [03:20<04:12,  1.80s/it]\u001b[A\n",
      " 48%|████▊     | 120/250 [03:38<03:55,  1.81s/it]\u001b[A\n",
      " 52%|█████▏    | 130/250 [03:56<03:36,  1.80s/it]\u001b[A\n",
      " 56%|█████▌    | 140/250 [04:14<03:18,  1.80s/it]\u001b[A\n",
      " 60%|██████    | 150/250 [04:32<03:00,  1.81s/it]\u001b[A\n",
      " 64%|██████▍   | 160/250 [04:50<02:41,  1.80s/it]\u001b[A\n",
      " 68%|██████▊   | 170/250 [05:08<02:25,  1.81s/it]\u001b[A\n",
      " 72%|███████▏  | 180/250 [05:26<02:06,  1.80s/it]\u001b[A\n",
      " 76%|███████▌  | 190/250 [05:44<01:48,  1.81s/it]\u001b[A\n",
      " 80%|████████  | 200/250 [06:03<01:30,  1.82s/it]\u001b[A\n",
      " 84%|████████▍ | 210/250 [06:21<01:12,  1.82s/it]\u001b[A\n",
      " 88%|████████▊ | 220/250 [06:40<00:55,  1.85s/it]\u001b[A\n",
      " 92%|█████████▏| 230/250 [06:58<00:36,  1.85s/it]\u001b[A\n",
      " 96%|█████████▌| 240/250 [07:17<00:18,  1.85s/it]\u001b[A\n",
      "100%|██████████| 250/250 [07:36<00:00,  1.82s/it]"
     ]
    },
    {
     "name": "stdout",
     "output_type": "stream",
     "text": [
      "Seed 4: success_once mean=0.0000, success_at_end mean=0.0000\n"
     ]
    },
    {
     "name": "stderr",
     "output_type": "stream",
     "text": [
      "\n"
     ]
    }
   ],
   "source": [
    "results = []\n",
    "for seed in range(5):\n",
    "    np.random.seed(seed)\n",
    "    torch.manual_seed(seed)\n",
    "    envs.reset(seed=seed)\n",
    "    metrics = evaluate(\n",
    "        n=250,\n",
    "        agent=agent,\n",
    "        eval_envs=envs,\n",
    "        device=agent.device if hasattr(agent, 'device') else torch.device(\"cpu\"),\n",
    "        sim_backend=args.sim_backend,\n",
    "        progress_bar=True\n",
    "    )\n",
    "    results.append(metrics)\n",
    "    print(f\"Seed {seed}: success_once mean={np.mean(metrics['success_once']):.4f}, \"\n",
    "          f\"success_at_end mean={np.mean(metrics['success_at_end']):.4f}\")"
   ]
  }
 ],
 "metadata": {
  "accelerator": "GPU",
  "colab": {
   "authorship_tag": "ABX9TyOe/svDYL6IADX4kitmWFzR",
   "gpuType": "T4",
   "provenance": []
  },
  "kernelspec": {
   "display_name": "Python 3",
   "name": "python3"
  },
  "language_info": {
   "name": "python"
  }
 },
 "nbformat": 4,
 "nbformat_minor": 0
}
