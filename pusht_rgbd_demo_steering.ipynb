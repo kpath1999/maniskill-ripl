{
 "cells": [
  {
   "cell_type": "markdown",
   "metadata": {},
   "source": [
    "## Steering the visual-based diffusion policy"
   ]
  },
  {
   "cell_type": "code",
   "execution_count": 1,
   "metadata": {
    "colab": {
     "base_uri": "https://localhost:8080/"
    },
    "executionInfo": {
     "elapsed": 662,
     "status": "ok",
     "timestamp": 1745628518708,
     "user": {
      "displayName": "Kausar Patherya",
      "userId": "09012208137279792936"
     },
     "user_tz": 240
    },
    "id": "RXQGjDalrP5I",
    "outputId": "3de71276-29c6-495b-ea84-67e6f02a6214"
   },
   "outputs": [
    {
     "name": "stdout",
     "output_type": "stream",
     "text": [
      "Drive already mounted at /content/drive; to attempt to forcibly remount, call drive.mount(\"/content/drive\", force_remount=True).\n"
     ]
    }
   ],
   "source": [
    "from google.colab import drive\n",
    "drive.mount('/content/drive')"
   ]
  },
  {
   "cell_type": "markdown",
   "metadata": {
    "id": "90cXOBQZ4ibJ"
   },
   "source": [
    "Remember to switch to a GPU environment. Only then click the play button below. This will install all the dependencies for the future code."
   ]
  },
  {
   "cell_type": "code",
   "execution_count": 2,
   "metadata": {
    "colab": {
     "base_uri": "https://localhost:8080/"
    },
    "executionInfo": {
     "elapsed": 13789,
     "status": "ok",
     "timestamp": 1745628535469,
     "user": {
      "displayName": "Kausar Patherya",
      "userId": "09012208137279792936"
     },
     "user_tz": 240
    },
    "id": "llkzlzkIrayJ",
    "outputId": "f49396a3-cec1-4671-9bdc-75f12176443d"
   },
   "outputs": [
    {
     "name": "stdout",
     "output_type": "stream",
     "text": [
      "Reading package lists... Done\n",
      "Building dependency tree... Done\n",
      "Reading state information... Done\n",
      "libvulkan-dev is already the newest version (1.3.204.1-2).\n",
      "0 upgraded, 0 newly installed, 0 to remove and 34 not upgraded.\n",
      "Requirement already satisfied: mani_skill in /usr/local/lib/python3.11/dist-packages (3.0.0b20)\n",
      "Requirement already satisfied: tyro in /usr/local/lib/python3.11/dist-packages (0.9.19)\n",
      "Requirement already satisfied: numpy<2.0.0,>=1.22 in /usr/local/lib/python3.11/dist-packages (from mani_skill) (1.26.4)\n",
      "Requirement already satisfied: scipy in /usr/local/lib/python3.11/dist-packages (from mani_skill) (1.14.1)\n",
      "Requirement already satisfied: dacite in /usr/local/lib/python3.11/dist-packages (from mani_skill) (1.9.2)\n",
      "Requirement already satisfied: gymnasium==0.29.1 in /usr/local/lib/python3.11/dist-packages (from mani_skill) (0.29.1)\n",
      "Requirement already satisfied: sapien==3.0.0.b1 in /usr/local/lib/python3.11/dist-packages (from mani_skill) (3.0.0b1)\n",
      "Requirement already satisfied: h5py in /usr/local/lib/python3.11/dist-packages (from mani_skill) (3.13.0)\n",
      "Requirement already satisfied: pyyaml in /usr/local/lib/python3.11/dist-packages (from mani_skill) (6.0.2)\n",
      "Requirement already satisfied: tqdm in /usr/local/lib/python3.11/dist-packages (from mani_skill) (4.67.1)\n",
      "Requirement already satisfied: GitPython in /usr/local/lib/python3.11/dist-packages (from mani_skill) (3.1.44)\n",
      "Requirement already satisfied: tabulate in /usr/local/lib/python3.11/dist-packages (from mani_skill) (0.9.0)\n",
      "Requirement already satisfied: transforms3d in /usr/local/lib/python3.11/dist-packages (from mani_skill) (0.4.2)\n",
      "Requirement already satisfied: trimesh in /usr/local/lib/python3.11/dist-packages (from mani_skill) (4.6.8)\n",
      "Requirement already satisfied: imageio in /usr/local/lib/python3.11/dist-packages (from mani_skill) (2.37.0)\n",
      "Requirement already satisfied: mplib==0.1.1 in /usr/local/lib/python3.11/dist-packages (from mani_skill) (0.1.1)\n",
      "Requirement already satisfied: fast_kinematics==0.2.2 in /usr/local/lib/python3.11/dist-packages (from mani_skill) (0.2.2)\n",
      "Requirement already satisfied: IPython in /usr/local/lib/python3.11/dist-packages (from mani_skill) (7.34.0)\n",
      "Requirement already satisfied: pytorch_kinematics==0.7.5 in /usr/local/lib/python3.11/dist-packages (from mani_skill) (0.7.5)\n",
      "Requirement already satisfied: pynvml in /usr/local/lib/python3.11/dist-packages (from mani_skill) (12.0.0)\n",
      "Requirement already satisfied: huggingface_hub in /usr/local/lib/python3.11/dist-packages (from mani_skill) (0.30.2)\n",
      "Requirement already satisfied: cloudpickle>=1.2.0 in /usr/local/lib/python3.11/dist-packages (from gymnasium==0.29.1->mani_skill) (3.1.1)\n",
      "Requirement already satisfied: typing-extensions>=4.3.0 in /usr/local/lib/python3.11/dist-packages (from gymnasium==0.29.1->mani_skill) (4.13.2)\n",
      "Requirement already satisfied: farama-notifications>=0.0.1 in /usr/local/lib/python3.11/dist-packages (from gymnasium==0.29.1->mani_skill) (0.0.4)\n",
      "Requirement already satisfied: toppra>=0.4.0 in /usr/local/lib/python3.11/dist-packages (from mplib==0.1.1->mani_skill) (0.6.3)\n",
      "Requirement already satisfied: absl-py in /usr/local/lib/python3.11/dist-packages (from pytorch_kinematics==0.7.5->mani_skill) (1.4.0)\n",
      "Requirement already satisfied: lxml in /usr/local/lib/python3.11/dist-packages (from pytorch_kinematics==0.7.5->mani_skill) (5.3.2)\n",
      "Requirement already satisfied: torch in /usr/local/lib/python3.11/dist-packages (from pytorch_kinematics==0.7.5->mani_skill) (2.6.0+cu124)\n",
      "Requirement already satisfied: matplotlib in /usr/local/lib/python3.11/dist-packages (from pytorch_kinematics==0.7.5->mani_skill) (3.10.0)\n",
      "Requirement already satisfied: pytorch-seed in /usr/local/lib/python3.11/dist-packages (from pytorch_kinematics==0.7.5->mani_skill) (0.2.0)\n",
      "Requirement already satisfied: arm-pytorch-utilities in /usr/local/lib/python3.11/dist-packages (from pytorch_kinematics==0.7.5->mani_skill) (0.4.3)\n",
      "Requirement already satisfied: requests>=2.22 in /usr/local/lib/python3.11/dist-packages (from sapien==3.0.0.b1->mani_skill) (2.32.3)\n",
      "Requirement already satisfied: networkx in /usr/local/lib/python3.11/dist-packages (from sapien==3.0.0.b1->mani_skill) (3.4.2)\n",
      "Requirement already satisfied: pyperclip in /usr/local/lib/python3.11/dist-packages (from sapien==3.0.0.b1->mani_skill) (1.9.0)\n",
      "Requirement already satisfied: opencv-python>=4.0 in /usr/local/lib/python3.11/dist-packages (from sapien==3.0.0.b1->mani_skill) (4.11.0.86)\n",
      "Requirement already satisfied: docstring-parser>=0.15 in /usr/local/lib/python3.11/dist-packages (from tyro) (0.16)\n",
      "Requirement already satisfied: rich>=11.1.0 in /usr/local/lib/python3.11/dist-packages (from tyro) (13.9.4)\n",
      "Requirement already satisfied: shtab>=1.5.6 in /usr/local/lib/python3.11/dist-packages (from tyro) (1.7.2)\n",
      "Requirement already satisfied: typeguard>=4.0.0 in /usr/local/lib/python3.11/dist-packages (from tyro) (4.4.2)\n",
      "Requirement already satisfied: markdown-it-py>=2.2.0 in /usr/local/lib/python3.11/dist-packages (from rich>=11.1.0->tyro) (3.0.0)\n",
      "Requirement already satisfied: pygments<3.0.0,>=2.13.0 in /usr/local/lib/python3.11/dist-packages (from rich>=11.1.0->tyro) (2.18.0)\n",
      "Requirement already satisfied: gitdb<5,>=4.0.1 in /usr/local/lib/python3.11/dist-packages (from GitPython->mani_skill) (4.0.12)\n",
      "Requirement already satisfied: filelock in /usr/local/lib/python3.11/dist-packages (from huggingface_hub->mani_skill) (3.18.0)\n",
      "Requirement already satisfied: fsspec>=2023.5.0 in /usr/local/lib/python3.11/dist-packages (from huggingface_hub->mani_skill) (2025.3.2)\n",
      "Requirement already satisfied: packaging>=20.9 in /usr/local/lib/python3.11/dist-packages (from huggingface_hub->mani_skill) (24.2)\n",
      "Requirement already satisfied: pillow>=8.3.2 in /usr/local/lib/python3.11/dist-packages (from imageio->mani_skill) (11.1.0)\n",
      "Requirement already satisfied: imageio-ffmpeg in /usr/local/lib/python3.11/dist-packages (from imageio[ffmpeg]->mani_skill) (0.6.0)\n",
      "Requirement already satisfied: psutil in /usr/local/lib/python3.11/dist-packages (from imageio[ffmpeg]->mani_skill) (5.9.5)\n",
      "Requirement already satisfied: setuptools>=18.5 in /usr/local/lib/python3.11/dist-packages (from IPython->mani_skill) (75.2.0)\n",
      "Requirement already satisfied: jedi>=0.16 in /usr/local/lib/python3.11/dist-packages (from IPython->mani_skill) (0.19.2)\n",
      "Requirement already satisfied: decorator in /usr/local/lib/python3.11/dist-packages (from IPython->mani_skill) (4.4.2)\n",
      "Requirement already satisfied: pickleshare in /usr/local/lib/python3.11/dist-packages (from IPython->mani_skill) (0.7.5)\n",
      "Requirement already satisfied: traitlets>=4.2 in /usr/local/lib/python3.11/dist-packages (from IPython->mani_skill) (5.7.1)\n",
      "Requirement already satisfied: prompt-toolkit!=3.0.0,!=3.0.1,<3.1.0,>=2.0.0 in /usr/local/lib/python3.11/dist-packages (from IPython->mani_skill) (3.0.51)\n",
      "Requirement already satisfied: backcall in /usr/local/lib/python3.11/dist-packages (from IPython->mani_skill) (0.2.0)\n",
      "Requirement already satisfied: matplotlib-inline in /usr/local/lib/python3.11/dist-packages (from IPython->mani_skill) (0.1.7)\n",
      "Requirement already satisfied: pexpect>4.3 in /usr/local/lib/python3.11/dist-packages (from IPython->mani_skill) (4.9.0)\n",
      "Requirement already satisfied: nvidia-ml-py<13.0.0a0,>=12.0.0 in /usr/local/lib/python3.11/dist-packages (from pynvml->mani_skill) (12.570.86)\n",
      "Requirement already satisfied: smmap<6,>=3.0.1 in /usr/local/lib/python3.11/dist-packages (from gitdb<5,>=4.0.1->GitPython->mani_skill) (5.0.2)\n",
      "Requirement already satisfied: parso<0.9.0,>=0.8.4 in /usr/local/lib/python3.11/dist-packages (from jedi>=0.16->IPython->mani_skill) (0.8.4)\n",
      "Requirement already satisfied: mdurl~=0.1 in /usr/local/lib/python3.11/dist-packages (from markdown-it-py>=2.2.0->rich>=11.1.0->tyro) (0.1.2)\n",
      "Requirement already satisfied: ptyprocess>=0.5 in /usr/local/lib/python3.11/dist-packages (from pexpect>4.3->IPython->mani_skill) (0.7.0)\n",
      "Requirement already satisfied: wcwidth in /usr/local/lib/python3.11/dist-packages (from prompt-toolkit!=3.0.0,!=3.0.1,<3.1.0,>=2.0.0->IPython->mani_skill) (0.2.13)\n",
      "Requirement already satisfied: charset-normalizer<4,>=2 in /usr/local/lib/python3.11/dist-packages (from requests>=2.22->sapien==3.0.0.b1->mani_skill) (3.4.1)\n",
      "Requirement already satisfied: idna<4,>=2.5 in /usr/local/lib/python3.11/dist-packages (from requests>=2.22->sapien==3.0.0.b1->mani_skill) (3.10)\n",
      "Requirement already satisfied: urllib3<3,>=1.21.1 in /usr/local/lib/python3.11/dist-packages (from requests>=2.22->sapien==3.0.0.b1->mani_skill) (2.3.0)\n",
      "Requirement already satisfied: certifi>=2017.4.17 in /usr/local/lib/python3.11/dist-packages (from requests>=2.22->sapien==3.0.0.b1->mani_skill) (2025.1.31)\n",
      "Requirement already satisfied: contourpy>=1.0.1 in /usr/local/lib/python3.11/dist-packages (from matplotlib->pytorch_kinematics==0.7.5->mani_skill) (1.3.2)\n",
      "Requirement already satisfied: cycler>=0.10 in /usr/local/lib/python3.11/dist-packages (from matplotlib->pytorch_kinematics==0.7.5->mani_skill) (0.12.1)\n",
      "Requirement already satisfied: fonttools>=4.22.0 in /usr/local/lib/python3.11/dist-packages (from matplotlib->pytorch_kinematics==0.7.5->mani_skill) (4.57.0)\n",
      "Requirement already satisfied: kiwisolver>=1.3.1 in /usr/local/lib/python3.11/dist-packages (from matplotlib->pytorch_kinematics==0.7.5->mani_skill) (1.4.8)\n",
      "Requirement already satisfied: pyparsing>=2.3.1 in /usr/local/lib/python3.11/dist-packages (from matplotlib->pytorch_kinematics==0.7.5->mani_skill) (3.2.3)\n",
      "Requirement already satisfied: python-dateutil>=2.7 in /usr/local/lib/python3.11/dist-packages (from matplotlib->pytorch_kinematics==0.7.5->mani_skill) (2.8.2)\n",
      "Requirement already satisfied: jinja2 in /usr/local/lib/python3.11/dist-packages (from torch->pytorch_kinematics==0.7.5->mani_skill) (3.1.6)\n",
      "Requirement already satisfied: nvidia-cuda-nvrtc-cu12==12.4.127 in /usr/local/lib/python3.11/dist-packages (from torch->pytorch_kinematics==0.7.5->mani_skill) (12.4.127)\n",
      "Requirement already satisfied: nvidia-cuda-runtime-cu12==12.4.127 in /usr/local/lib/python3.11/dist-packages (from torch->pytorch_kinematics==0.7.5->mani_skill) (12.4.127)\n",
      "Requirement already satisfied: nvidia-cuda-cupti-cu12==12.4.127 in /usr/local/lib/python3.11/dist-packages (from torch->pytorch_kinematics==0.7.5->mani_skill) (12.4.127)\n",
      "Requirement already satisfied: nvidia-cudnn-cu12==9.1.0.70 in /usr/local/lib/python3.11/dist-packages (from torch->pytorch_kinematics==0.7.5->mani_skill) (9.1.0.70)\n",
      "Requirement already satisfied: nvidia-cublas-cu12==12.4.5.8 in /usr/local/lib/python3.11/dist-packages (from torch->pytorch_kinematics==0.7.5->mani_skill) (12.4.5.8)\n",
      "Requirement already satisfied: nvidia-cufft-cu12==11.2.1.3 in /usr/local/lib/python3.11/dist-packages (from torch->pytorch_kinematics==0.7.5->mani_skill) (11.2.1.3)\n",
      "Requirement already satisfied: nvidia-curand-cu12==10.3.5.147 in /usr/local/lib/python3.11/dist-packages (from torch->pytorch_kinematics==0.7.5->mani_skill) (10.3.5.147)\n",
      "Requirement already satisfied: nvidia-cusolver-cu12==11.6.1.9 in /usr/local/lib/python3.11/dist-packages (from torch->pytorch_kinematics==0.7.5->mani_skill) (11.6.1.9)\n",
      "Requirement already satisfied: nvidia-cusparse-cu12==12.3.1.170 in /usr/local/lib/python3.11/dist-packages (from torch->pytorch_kinematics==0.7.5->mani_skill) (12.3.1.170)\n",
      "Requirement already satisfied: nvidia-cusparselt-cu12==0.6.2 in /usr/local/lib/python3.11/dist-packages (from torch->pytorch_kinematics==0.7.5->mani_skill) (0.6.2)\n",
      "Requirement already satisfied: nvidia-nccl-cu12==2.21.5 in /usr/local/lib/python3.11/dist-packages (from torch->pytorch_kinematics==0.7.5->mani_skill) (2.21.5)\n",
      "Requirement already satisfied: nvidia-nvtx-cu12==12.4.127 in /usr/local/lib/python3.11/dist-packages (from torch->pytorch_kinematics==0.7.5->mani_skill) (12.4.127)\n",
      "Requirement already satisfied: nvidia-nvjitlink-cu12==12.4.127 in /usr/local/lib/python3.11/dist-packages (from torch->pytorch_kinematics==0.7.5->mani_skill) (12.4.127)\n",
      "Requirement already satisfied: triton==3.2.0 in /usr/local/lib/python3.11/dist-packages (from torch->pytorch_kinematics==0.7.5->mani_skill) (3.2.0)\n",
      "Requirement already satisfied: sympy==1.13.1 in /usr/local/lib/python3.11/dist-packages (from torch->pytorch_kinematics==0.7.5->mani_skill) (1.13.1)\n",
      "Requirement already satisfied: mpmath<1.4,>=1.1.0 in /usr/local/lib/python3.11/dist-packages (from sympy==1.13.1->torch->pytorch_kinematics==0.7.5->mani_skill) (1.3.0)\n",
      "Requirement already satisfied: six>=1.5 in /usr/local/lib/python3.11/dist-packages (from python-dateutil>=2.7->matplotlib->pytorch_kinematics==0.7.5->mani_skill) (1.17.0)\n",
      "Requirement already satisfied: MarkupSafe>=2.0 in /usr/local/lib/python3.11/dist-packages (from jinja2->torch->pytorch_kinematics==0.7.5->mani_skill) (3.0.2)\n"
     ]
    }
   ],
   "source": [
    "# setup vulkan\n",
    "!mkdir -p /usr/share/vulkan/icd.d\n",
    "!wget -q https://raw.githubusercontent.com/haosulab/ManiSkill/main/docker/nvidia_icd.json\n",
    "!wget -q https://raw.githubusercontent.com/haosulab/ManiSkill/main/docker/10_nvidia.json\n",
    "!mv nvidia_icd.json /usr/share/vulkan/icd.d\n",
    "!mv 10_nvidia.json /usr/share/glvnd/egl_vendor.d/10_nvidia.json\n",
    "!apt-get install -y --no-install-recommends libvulkan-dev\n",
    "# dependencies\n",
    "!pip install --upgrade mani_skill tyro"
   ]
  },
  {
   "cell_type": "code",
   "execution_count": 3,
   "metadata": {
    "executionInfo": {
     "elapsed": 13589,
     "status": "ok",
     "timestamp": 1745628552349,
     "user": {
      "displayName": "Kausar Patherya",
      "userId": "09012208137279792936"
     },
     "user_tz": 240
    },
    "id": "tOfHPqrQ40el"
   },
   "outputs": [],
   "source": [
    "# Import required packages\n",
    "import gymnasium as gym\n",
    "from tqdm.notebook import tqdm\n",
    "import numpy as np\n",
    "import mani_skill.envs\n",
    "import matplotlib.pyplot as plt"
   ]
  },
  {
   "cell_type": "markdown",
   "metadata": {
    "id": "Yafe0hrp-E0y"
   },
   "source": [
    "Download the demos."
   ]
  },
  {
   "cell_type": "code",
   "execution_count": 4,
   "metadata": {
    "colab": {
     "base_uri": "https://localhost:8080/"
    },
    "executionInfo": {
     "elapsed": 9514,
     "status": "ok",
     "timestamp": 1745628561880,
     "user": {
      "displayName": "Kausar Patherya",
      "userId": "09012208137279792936"
     },
     "user_tz": 240
    },
    "id": "VXFh80s9-Dvr",
    "outputId": "eddc6cee-1516-440f-d86c-5c6a7957da88"
   },
   "outputs": [
    {
     "name": "stdout",
     "output_type": "stream",
     "text": [
      "Downloading demonstrations to /root/.maniskill/demos - 1/1, PushT-v1\n",
      "35.7Mit [00:00, 42.2Mit/s]              \n"
     ]
    }
   ],
   "source": [
    "!python -m mani_skill.utils.download_demo PushT-v1"
   ]
  },
  {
   "cell_type": "code",
   "execution_count": 5,
   "metadata": {
    "colab": {
     "base_uri": "https://localhost:8080/"
    },
    "executionInfo": {
     "elapsed": 87,
     "status": "ok",
     "timestamp": 1745628561964,
     "user": {
      "displayName": "Kausar Patherya",
      "userId": "09012208137279792936"
     },
     "user_tz": 240
    },
    "id": "dH7o1P2Z-PBy",
    "outputId": "07eb4d70-a3a6-4214-cace-1e464c7e254b"
   },
   "outputs": [
    {
     "name": "stdout",
     "output_type": "stream",
     "text": [
      "ppo_pd_ee_delta_pos_ckpt.pt\n",
      "ppo_pd_ee_delta_pose_ckpt.pt\n",
      "ppo_pd_joint_delta_pos_ckpt.pt\n",
      "sample_pd_ee_delta_pose.mp4\n",
      "sample_pd_ee_delta_pos.mp4\n",
      "sample_pd_joint_delta_pos.mp4\n",
      "trajectory.none.pd_ee_delta_pose.physx_cuda.h5\n",
      "trajectory.none.pd_ee_delta_pose.physx_cuda.json\n",
      "trajectory.none.pd_ee_delta_pos.physx_cuda.h5\n",
      "trajectory.none.pd_ee_delta_pos.physx_cuda.json\n",
      "trajectory.none.pd_joint_delta_pos.physx_cuda.h5\n",
      "trajectory.none.pd_joint_delta_pos.physx_cuda.json\n"
     ]
    }
   ],
   "source": [
    "!ls /root/.maniskill/demos/PushT-v1/rl"
   ]
  },
  {
   "cell_type": "code",
   "execution_count": 6,
   "metadata": {
    "colab": {
     "base_uri": "https://localhost:8080/"
    },
    "executionInfo": {
     "elapsed": 8,
     "status": "ok",
     "timestamp": 1745628568848,
     "user": {
      "displayName": "Kausar Patherya",
      "userId": "09012208137279792936"
     },
     "user_tz": 240
    },
    "id": "g4yg6aaw-Pls",
    "outputId": "fc0fbf62-ba8e-4ed3-b7ff-3b89a09b55a0"
   },
   "outputs": [
    {
     "name": "stdout",
     "output_type": "stream",
     "text": [
      "/content/drive/MyDrive/diffusionpolicy\n"
     ]
    }
   ],
   "source": [
    "%cd /content/drive/MyDrive/diffusionpolicy/"
   ]
  },
  {
   "cell_type": "code",
   "execution_count": 7,
   "metadata": {
    "colab": {
     "base_uri": "https://localhost:8080/"
    },
    "executionInfo": {
     "elapsed": 10930395,
     "status": "ok",
     "timestamp": 1745639502052,
     "user": {
      "displayName": "Kausar Patherya",
      "userId": "09012208137279792936"
     },
     "user_tz": 240
    },
    "id": "kCpy_oGW-S2b",
    "outputId": "7162870f-f4e5-407d-faec-6ee5a49ee1c5"
   },
   "outputs": [
    {
     "name": "stdout",
     "output_type": "stream",
     "text": [
      "\r  0% 0/888 [00:00<?, ?step/s]\r0step [00:00, ?step/s]Downloading PhysX GPU library to /root/.sapien/physx/105.1-physx-5.3.1.patch0 from Github. This can take several minutes. If it fails to download, please manually download fhttps://github.com/sapien-sim/physx-precompiled/releases/download/105.1-physx-5.3.1.patch0/linux-so.zip and unzip at /root/.sapien/physx/105.1-physx-5.3.1.patch0.\n",
      "Download complete.\n",
      "\u001b[33;1m2025-04-26 00:41:04,709 - mani_skill  - WARNING - mani_skill is not installed with git.\u001b[0m\n",
      "100% 888/888 [3:01:46<00:00, 12.28s/step]\n",
      "  0% 0/888 [3:01:59<?, ?step/s]\n",
      "Replayed 888 episodes, 799/888=89.98% demos saved\n"
     ]
    }
   ],
   "source": [
    "!python -m mani_skill.trajectory.replay_trajectory \\\n",
    "  --traj-path ~/.maniskill/demos/PushT-v1/rl/trajectory.none.pd_ee_delta_pos.physx_cuda.h5 \\\n",
    "  --use-env-states -c pd_ee_delta_pos -o rgbd \\\n",
    "  --save-traj --num-envs 256 -b physx_cuda"
   ]
  },
  {
   "cell_type": "code",
   "execution_count": 8,
   "metadata": {
    "colab": {
     "base_uri": "https://localhost:8080/"
    },
    "executionInfo": {
     "elapsed": 139,
     "status": "ok",
     "timestamp": 1745639502199,
     "user": {
      "displayName": "Kausar Patherya",
      "userId": "09012208137279792936"
     },
     "user_tz": 240
    },
    "id": "BwKuKIpbAfSh",
    "outputId": "c5b1f1ec-ae79-4c20-83ca-3628bcf3cb7b"
   },
   "outputs": [
    {
     "name": "stdout",
     "output_type": "stream",
     "text": [
      "ppo_pd_ee_delta_pos_ckpt.pt\n",
      "ppo_pd_ee_delta_pose_ckpt.pt\n",
      "ppo_pd_joint_delta_pos_ckpt.pt\n",
      "sample_pd_ee_delta_pose.mp4\n",
      "sample_pd_ee_delta_pos.mp4\n",
      "sample_pd_joint_delta_pos.mp4\n",
      "trajectory.none.pd_ee_delta_pose.physx_cuda.h5\n",
      "trajectory.none.pd_ee_delta_pose.physx_cuda.json\n",
      "trajectory.none.pd_ee_delta_pos.physx_cuda.h5\n",
      "trajectory.none.pd_ee_delta_pos.physx_cuda.json\n",
      "trajectory.none.pd_joint_delta_pos.physx_cuda.h5\n",
      "trajectory.none.pd_joint_delta_pos.physx_cuda.json\n",
      "trajectory.rgbd.pd_ee_delta_pos.physx_cuda.h5\n",
      "trajectory.rgbd.pd_ee_delta_pos.physx_cuda.json\n"
     ]
    }
   ],
   "source": [
    "!ls /root/.maniskill/demos/PushT-v1/rl"
   ]
  },
  {
   "cell_type": "code",
   "execution_count": null,
   "metadata": {
    "colab": {
     "base_uri": "https://localhost:8080/"
    },
    "executionInfo": {
     "elapsed": 16886,
     "status": "ok",
     "timestamp": 1745607510907,
     "user": {
      "displayName": "Kausar Patherya",
      "userId": "09012208137279792936"
     },
     "user_tz": 240
    },
    "id": "oSBQqtwEQcxw",
    "outputId": "07994d68-70c9-4d5f-9eda-559d0f3f7d73"
   },
   "outputs": [
    {
     "name": "stdout",
     "output_type": "stream",
     "text": [
      "  adding: trajectory.rgbd.pd_ee_delta_pos.physx_cuda.h5 (deflated 30%)\n",
      "  adding: trajectory.rgbd.pd_ee_delta_pos.physx_cuda.json (deflated 94%)\n"
     ]
    }
   ],
   "source": [
    "!zip -j /content/trajectory_rgbd_bundle.zip \\\n",
    "  /root/.maniskill/demos/PushT-v1/rl/trajectory.rgbd.pd_ee_delta_pos.physx_cuda.h5 \\\n",
    "  /root/.maniskill/demos/PushT-v1/rl/trajectory.rgbd.pd_ee_delta_pos.physx_cuda.json"
   ]
  },
  {
   "cell_type": "code",
   "execution_count": null,
   "metadata": {
    "colab": {
     "base_uri": "https://localhost:8080/",
     "height": 34
    },
    "executionInfo": {
     "elapsed": 20,
     "status": "ok",
     "timestamp": 1745607510911,
     "user": {
      "displayName": "Kausar Patherya",
      "userId": "09012208137279792936"
     },
     "user_tz": 240
    },
    "id": "9rFXEQyZQdhh",
    "outputId": "5b843da5-be54-4b59-8c02-de8823809694"
   },
   "outputs": [
    {
     "data": {
      "application/javascript": "\n    async function download(id, filename, size) {\n      if (!google.colab.kernel.accessAllowed) {\n        return;\n      }\n      const div = document.createElement('div');\n      const label = document.createElement('label');\n      label.textContent = `Downloading \"${filename}\": `;\n      div.appendChild(label);\n      const progress = document.createElement('progress');\n      progress.max = size;\n      div.appendChild(progress);\n      document.body.appendChild(div);\n\n      const buffers = [];\n      let downloaded = 0;\n\n      const channel = await google.colab.kernel.comms.open(id);\n      // Send a message to notify the kernel that we're ready.\n      channel.send({})\n\n      for await (const message of channel.messages) {\n        // Send a message to notify the kernel that we're ready.\n        channel.send({})\n        if (message.buffers) {\n          for (const buffer of message.buffers) {\n            buffers.push(buffer);\n            downloaded += buffer.byteLength;\n            progress.value = downloaded;\n          }\n        }\n      }\n      const blob = new Blob(buffers, {type: 'application/binary'});\n      const a = document.createElement('a');\n      a.href = window.URL.createObjectURL(blob);\n      a.download = filename;\n      div.appendChild(a);\n      a.click();\n      div.remove();\n    }\n  ",
      "text/plain": [
       "<IPython.core.display.Javascript object>"
      ]
     },
     "metadata": {},
     "output_type": "display_data"
    },
    {
     "data": {
      "application/javascript": "download(\"download_62c2140e-cac2-4cf8-a9eb-63e9f3a60c51\", \"trajectory_rgbd_bundle.zip\", 306210429)",
      "text/plain": [
       "<IPython.core.display.Javascript object>"
      ]
     },
     "metadata": {},
     "output_type": "display_data"
    }
   ],
   "source": [
    "from google.colab import files\n",
    "files.download(\"/content/trajectory_rgbd_bundle.zip\")"
   ]
  },
  {
   "cell_type": "code",
   "execution_count": null,
   "metadata": {
    "colab": {
     "base_uri": "https://localhost:8080/"
    },
    "executionInfo": {
     "elapsed": 11,
     "status": "ok",
     "timestamp": 1745607510924,
     "user": {
      "displayName": "Kausar Patherya",
      "userId": "09012208137279792936"
     },
     "user_tz": 240
    },
    "id": "xA35uFMJAiV6",
    "outputId": "b62f4df6-86bc-421b-ea37-4946983b0fba"
   },
   "outputs": [
    {
     "name": "stdout",
     "output_type": "stream",
     "text": [
      "True\n",
      "True\n"
     ]
    }
   ],
   "source": [
    "import os\n",
    "print(os.path.exists('/root/.maniskill/demos/PushT-v1/rl/trajectory.rgbd.pd_ee_delta_pos.physx_cuda.json'))\n",
    "print(os.path.exists('/root/.maniskill/demos/PushT-v1/rl/trajectory.rgbd.pd_ee_delta_pos.physx_cuda.h5'))"
   ]
  },
  {
   "cell_type": "code",
   "execution_count": null,
   "metadata": {
    "colab": {
     "base_uri": "https://localhost:8080/"
    },
    "executionInfo": {
     "elapsed": 77,
     "status": "ok",
     "timestamp": 1745607511005,
     "user": {
      "displayName": "Kausar Patherya",
      "userId": "09012208137279792936"
     },
     "user_tz": 240
    },
    "id": "Aabcz4Of_3By",
    "outputId": "5c71cc52-a0be-4123-fd84-f57f72140cf6"
   },
   "outputs": [
    {
     "name": "stdout",
     "output_type": "stream",
     "text": [
      "Top-level keys: ['env_info', 'commit_info', 'episodes']\n",
      "Key: env_info, Value (truncated): {'env_id': 'PushT-v1', 'env_kwargs': {'num_envs': 256, 'reconfiguration_freq': 1, 'human_render_camera_configs': {'shader_pack': 'default'}, 'obs_mode': 'rgbd', 'render_mode': 'rgb_array', 'sim_backend': 'physx_cuda', 'control_mode': 'pd_ee_delta_pos', 'reward_mode': None}, 'max_episode_steps': 100}\n",
      "Key: commit_info, Value (truncated): None\n",
      "Key: episodes, Value (truncated): [{'episode_id': 0, 'episode_seed': 144360722, 'control_mode': 'pd_ee_delta_pos', 'elapsed_steps': 40, 'reset_kwargs': {}, 'success': True}, {'episode_id': 1, 'episode_seed': 821489836, 'control_mode': 'pd_ee_delta_pos', 'elapsed_steps': 52, 'reset_kwargs': {}, 'success': True}, {'episode_id': 2, 'ep\n"
     ]
    }
   ],
   "source": [
    "import json\n",
    "\n",
    "json_path = '/root/.maniskill/demos/PushT-v1/rl/trajectory.rgbd.pd_ee_delta_pos.physx_cuda.json'\n",
    "with open(json_path, 'r') as f:\n",
    "    data = json.load(f)\n",
    "print('Top-level keys:', list(data.keys()))\n",
    "for k in list(data.keys())[:3]:\n",
    "    print(f'Key: {k}, Value (truncated):', str(data[k])[:300])"
   ]
  },
  {
   "cell_type": "code",
   "execution_count": null,
   "metadata": {
    "colab": {
     "base_uri": "https://localhost:8080/"
    },
    "executionInfo": {
     "elapsed": 11,
     "status": "ok",
     "timestamp": 1745607515436,
     "user": {
      "displayName": "Kausar Patherya",
      "userId": "09012208137279792936"
     },
     "user_tz": 240
    },
    "id": "7kufkWkYA9xO",
    "outputId": "653e43e5-73e5-4b31-c7f3-613828ab3d8c"
   },
   "outputs": [
    {
     "name": "stdout",
     "output_type": "stream",
     "text": [
      "Top-level keys: ['traj_0', 'traj_1', 'traj_10', 'traj_100', 'traj_101', 'traj_102', 'traj_103', 'traj_104', 'traj_105', 'traj_106', 'traj_107', 'traj_108', 'traj_109', 'traj_11', 'traj_110', 'traj_111', 'traj_112', 'traj_113', 'traj_114', 'traj_115', 'traj_116', 'traj_117', 'traj_118', 'traj_119', 'traj_12', 'traj_120', 'traj_121', 'traj_122', 'traj_123', 'traj_124', 'traj_125', 'traj_126', 'traj_127', 'traj_128', 'traj_129', 'traj_13', 'traj_130', 'traj_131', 'traj_132', 'traj_133', 'traj_134', 'traj_135', 'traj_136', 'traj_137', 'traj_138', 'traj_139', 'traj_14', 'traj_140', 'traj_141', 'traj_142', 'traj_143', 'traj_144', 'traj_145', 'traj_146', 'traj_147', 'traj_148', 'traj_149', 'traj_15', 'traj_150', 'traj_151', 'traj_152', 'traj_153', 'traj_154', 'traj_155', 'traj_156', 'traj_157', 'traj_158', 'traj_159', 'traj_16', 'traj_160', 'traj_161', 'traj_162', 'traj_163', 'traj_164', 'traj_165', 'traj_166', 'traj_167', 'traj_168', 'traj_169', 'traj_17', 'traj_170', 'traj_171', 'traj_172', 'traj_173', 'traj_174', 'traj_175', 'traj_176', 'traj_177', 'traj_178', 'traj_179', 'traj_18', 'traj_180', 'traj_181', 'traj_182', 'traj_183', 'traj_184', 'traj_185', 'traj_186', 'traj_187', 'traj_188', 'traj_189', 'traj_19', 'traj_190', 'traj_191', 'traj_192', 'traj_193', 'traj_194', 'traj_195', 'traj_196', 'traj_197', 'traj_198', 'traj_199', 'traj_2', 'traj_20', 'traj_200', 'traj_201', 'traj_202', 'traj_203', 'traj_204', 'traj_205', 'traj_206', 'traj_207', 'traj_208', 'traj_209', 'traj_21', 'traj_210', 'traj_211', 'traj_212', 'traj_213', 'traj_214', 'traj_215', 'traj_216', 'traj_217', 'traj_218', 'traj_219', 'traj_22', 'traj_220', 'traj_221', 'traj_222', 'traj_223', 'traj_224', 'traj_225', 'traj_226', 'traj_227', 'traj_228', 'traj_229', 'traj_23', 'traj_230', 'traj_231', 'traj_232', 'traj_233', 'traj_234', 'traj_235', 'traj_236', 'traj_237', 'traj_238', 'traj_239', 'traj_24', 'traj_240', 'traj_241', 'traj_242', 'traj_243', 'traj_244', 'traj_245', 'traj_246', 'traj_247', 'traj_248', 'traj_249', 'traj_25', 'traj_250', 'traj_251', 'traj_252', 'traj_253', 'traj_254', 'traj_255', 'traj_256', 'traj_257', 'traj_258', 'traj_259', 'traj_26', 'traj_260', 'traj_261', 'traj_262', 'traj_263', 'traj_264', 'traj_265', 'traj_266', 'traj_267', 'traj_268', 'traj_269', 'traj_27', 'traj_270', 'traj_271', 'traj_272', 'traj_273', 'traj_274', 'traj_275', 'traj_276', 'traj_277', 'traj_278', 'traj_279', 'traj_28', 'traj_280', 'traj_281', 'traj_282', 'traj_283', 'traj_284', 'traj_285', 'traj_286', 'traj_287', 'traj_288', 'traj_289', 'traj_29', 'traj_290', 'traj_291', 'traj_292', 'traj_293', 'traj_294', 'traj_295', 'traj_296', 'traj_297', 'traj_298', 'traj_299', 'traj_3', 'traj_30', 'traj_300', 'traj_301', 'traj_302', 'traj_303', 'traj_304', 'traj_305', 'traj_306', 'traj_307', 'traj_308', 'traj_309', 'traj_31', 'traj_310', 'traj_311', 'traj_312', 'traj_313', 'traj_314', 'traj_315', 'traj_316', 'traj_317', 'traj_318', 'traj_319', 'traj_32', 'traj_320', 'traj_321', 'traj_322', 'traj_323', 'traj_324', 'traj_325', 'traj_326', 'traj_327', 'traj_328', 'traj_329', 'traj_33', 'traj_330', 'traj_331', 'traj_332', 'traj_333', 'traj_334', 'traj_335', 'traj_336', 'traj_337', 'traj_338', 'traj_339', 'traj_34', 'traj_340', 'traj_341', 'traj_342', 'traj_343', 'traj_344', 'traj_345', 'traj_346', 'traj_347', 'traj_348', 'traj_349', 'traj_35', 'traj_350', 'traj_351', 'traj_352', 'traj_353', 'traj_354', 'traj_355', 'traj_356', 'traj_357', 'traj_358', 'traj_359', 'traj_36', 'traj_360', 'traj_361', 'traj_362', 'traj_363', 'traj_364', 'traj_365', 'traj_366', 'traj_367', 'traj_368', 'traj_369', 'traj_37', 'traj_370', 'traj_371', 'traj_372', 'traj_373', 'traj_374', 'traj_375', 'traj_376', 'traj_377', 'traj_378', 'traj_379', 'traj_38', 'traj_380', 'traj_381', 'traj_382', 'traj_383', 'traj_384', 'traj_385', 'traj_386', 'traj_387', 'traj_388', 'traj_389', 'traj_39', 'traj_390', 'traj_391', 'traj_392', 'traj_393', 'traj_394', 'traj_395', 'traj_396', 'traj_397', 'traj_398', 'traj_399', 'traj_4', 'traj_40', 'traj_400', 'traj_401', 'traj_402', 'traj_403', 'traj_404', 'traj_405', 'traj_406', 'traj_407', 'traj_408', 'traj_409', 'traj_41', 'traj_410', 'traj_411', 'traj_412', 'traj_413', 'traj_414', 'traj_415', 'traj_416', 'traj_417', 'traj_418', 'traj_419', 'traj_42', 'traj_420', 'traj_421', 'traj_422', 'traj_423', 'traj_424', 'traj_425', 'traj_426', 'traj_427', 'traj_428', 'traj_429', 'traj_43', 'traj_430', 'traj_431', 'traj_432', 'traj_433', 'traj_434', 'traj_435', 'traj_436', 'traj_437', 'traj_438', 'traj_439', 'traj_44', 'traj_440', 'traj_441', 'traj_442', 'traj_443', 'traj_444', 'traj_445', 'traj_446', 'traj_447', 'traj_448', 'traj_449', 'traj_45', 'traj_450', 'traj_451', 'traj_452', 'traj_453', 'traj_454', 'traj_455', 'traj_456', 'traj_457', 'traj_458', 'traj_459', 'traj_46', 'traj_460', 'traj_461', 'traj_462', 'traj_463', 'traj_464', 'traj_465', 'traj_466', 'traj_467', 'traj_468', 'traj_469', 'traj_47', 'traj_470', 'traj_471', 'traj_472', 'traj_473', 'traj_474', 'traj_475', 'traj_476', 'traj_477', 'traj_478', 'traj_479', 'traj_48', 'traj_480', 'traj_481', 'traj_482', 'traj_483', 'traj_484', 'traj_485', 'traj_486', 'traj_487', 'traj_488', 'traj_489', 'traj_49', 'traj_490', 'traj_491', 'traj_492', 'traj_493', 'traj_494', 'traj_495', 'traj_496', 'traj_497', 'traj_498', 'traj_499', 'traj_5', 'traj_50', 'traj_500', 'traj_501', 'traj_502', 'traj_503', 'traj_504', 'traj_505', 'traj_506', 'traj_507', 'traj_508', 'traj_509', 'traj_51', 'traj_510', 'traj_511', 'traj_512', 'traj_513', 'traj_514', 'traj_515', 'traj_516', 'traj_517', 'traj_518', 'traj_519', 'traj_52', 'traj_520', 'traj_521', 'traj_522', 'traj_523', 'traj_524', 'traj_525', 'traj_526', 'traj_527', 'traj_528', 'traj_529', 'traj_53', 'traj_530', 'traj_531', 'traj_532', 'traj_533', 'traj_534', 'traj_535', 'traj_536', 'traj_537', 'traj_538', 'traj_539', 'traj_54', 'traj_540', 'traj_541', 'traj_542', 'traj_543', 'traj_544', 'traj_545', 'traj_546', 'traj_547', 'traj_548', 'traj_549', 'traj_55', 'traj_550', 'traj_551', 'traj_552', 'traj_553', 'traj_554', 'traj_555', 'traj_556', 'traj_557', 'traj_558', 'traj_559', 'traj_56', 'traj_560', 'traj_561', 'traj_562', 'traj_563', 'traj_564', 'traj_565', 'traj_566', 'traj_567', 'traj_568', 'traj_569', 'traj_57', 'traj_570', 'traj_571', 'traj_572', 'traj_573', 'traj_574', 'traj_575', 'traj_576', 'traj_577', 'traj_578', 'traj_579', 'traj_58', 'traj_580', 'traj_581', 'traj_582', 'traj_583', 'traj_584', 'traj_585', 'traj_586', 'traj_587', 'traj_588', 'traj_589', 'traj_59', 'traj_590', 'traj_591', 'traj_592', 'traj_593', 'traj_594', 'traj_595', 'traj_596', 'traj_597', 'traj_598', 'traj_599', 'traj_6', 'traj_60', 'traj_600', 'traj_601', 'traj_602', 'traj_603', 'traj_604', 'traj_605', 'traj_606', 'traj_607', 'traj_608', 'traj_609', 'traj_61', 'traj_610', 'traj_611', 'traj_612', 'traj_613', 'traj_614', 'traj_615', 'traj_616', 'traj_617', 'traj_618', 'traj_619', 'traj_62', 'traj_620', 'traj_621', 'traj_622', 'traj_623', 'traj_624', 'traj_625', 'traj_626', 'traj_627', 'traj_628', 'traj_629', 'traj_63', 'traj_630', 'traj_631', 'traj_632', 'traj_633', 'traj_634', 'traj_635', 'traj_636', 'traj_637', 'traj_638', 'traj_639', 'traj_64', 'traj_640', 'traj_641', 'traj_642', 'traj_643', 'traj_644', 'traj_645', 'traj_646', 'traj_647', 'traj_648', 'traj_649', 'traj_65', 'traj_650', 'traj_651', 'traj_652', 'traj_653', 'traj_654', 'traj_655', 'traj_656', 'traj_657', 'traj_658', 'traj_659', 'traj_66', 'traj_660', 'traj_661', 'traj_662', 'traj_663', 'traj_664', 'traj_665', 'traj_666', 'traj_667', 'traj_668', 'traj_669', 'traj_67', 'traj_670', 'traj_671', 'traj_672', 'traj_673', 'traj_674', 'traj_675', 'traj_676', 'traj_677', 'traj_678', 'traj_679', 'traj_68', 'traj_680', 'traj_681', 'traj_682', 'traj_683', 'traj_684', 'traj_685', 'traj_686', 'traj_687', 'traj_688', 'traj_689', 'traj_69', 'traj_690', 'traj_691', 'traj_692', 'traj_693', 'traj_694', 'traj_695', 'traj_696', 'traj_697', 'traj_698', 'traj_699', 'traj_7', 'traj_70', 'traj_700', 'traj_701', 'traj_702', 'traj_703', 'traj_704', 'traj_705', 'traj_706', 'traj_707', 'traj_708', 'traj_709', 'traj_71', 'traj_710', 'traj_711', 'traj_712', 'traj_713', 'traj_714', 'traj_715', 'traj_716', 'traj_717', 'traj_718', 'traj_719', 'traj_72', 'traj_720', 'traj_721', 'traj_722', 'traj_723', 'traj_724', 'traj_725', 'traj_726', 'traj_727', 'traj_728', 'traj_729', 'traj_73', 'traj_730', 'traj_731', 'traj_732', 'traj_733', 'traj_734', 'traj_735', 'traj_736', 'traj_737', 'traj_738', 'traj_739', 'traj_74', 'traj_740', 'traj_741', 'traj_742', 'traj_743', 'traj_744', 'traj_745', 'traj_746', 'traj_747', 'traj_748', 'traj_749', 'traj_75', 'traj_750', 'traj_751', 'traj_752', 'traj_753', 'traj_754', 'traj_755', 'traj_756', 'traj_757', 'traj_758', 'traj_759', 'traj_76', 'traj_760', 'traj_761', 'traj_762', 'traj_763', 'traj_764', 'traj_765', 'traj_766', 'traj_767', 'traj_768', 'traj_769', 'traj_77', 'traj_770', 'traj_771', 'traj_772', 'traj_773', 'traj_774', 'traj_775', 'traj_776', 'traj_777', 'traj_778', 'traj_779', 'traj_78', 'traj_780', 'traj_781', 'traj_782', 'traj_783', 'traj_784', 'traj_785', 'traj_786', 'traj_787', 'traj_788', 'traj_789', 'traj_79', 'traj_790', 'traj_791', 'traj_792', 'traj_793', 'traj_794', 'traj_795', 'traj_796', 'traj_797', 'traj_798', 'traj_8', 'traj_80', 'traj_81', 'traj_82', 'traj_83', 'traj_84', 'traj_85', 'traj_86', 'traj_87', 'traj_88', 'traj_89', 'traj_9', 'traj_90', 'traj_91', 'traj_92', 'traj_93', 'traj_94', 'traj_95', 'traj_96', 'traj_97', 'traj_98', 'traj_99']\n"
     ]
    }
   ],
   "source": [
    "import h5py\n",
    "\n",
    "h5_path = '/root/.maniskill/demos/PushT-v1/rl/trajectory.rgbd.pd_ee_delta_pos.physx_cuda.h5'\n",
    "with h5py.File(h5_path, 'r') as f:\n",
    "    print('Top-level keys:', list(f.keys()))"
   ]
  },
  {
   "cell_type": "markdown",
   "metadata": {
    "id": "gwBb27WfbfAB"
   },
   "source": [
    "Once you're done with the first run, provide details around the training process (such as training loss, hyperparameters, training time, VRAM usage). Document challenges.\n",
    "\n",
    "And now you'll need to tweak the hyperparameters. The two levers you can pull are the prediction horizon and acting horizon of the diffusion policy."
   ]
  },
  {
   "cell_type": "code",
   "execution_count": null,
   "metadata": {
    "colab": {
     "background_save": true,
     "base_uri": "https://localhost:8080/"
    },
    "id": "UUIxChSNBcR0"
   },
   "outputs": [
    {
     "name": "stdout",
     "output_type": "stream",
     "text": [
      "2025-04-26 03:43:15.131249: E external/local_xla/xla/stream_executor/cuda/cuda_fft.cc:477] Unable to register cuFFT factory: Attempting to register factory for plugin cuFFT when one has already been registered\n",
      "WARNING: All log messages before absl::InitializeLog() is called are written to STDERR\n",
      "E0000 00:00:1745638995.430292   62001 cuda_dnn.cc:8310] Unable to register cuDNN factory: Attempting to register factory for plugin cuDNN when one has already been registered\n",
      "E0000 00:00:1745638995.506923   62001 cuda_blas.cc:1418] Unable to register cuBLAS factory: Attempting to register factory for plugin cuBLAS when one has already been registered\n",
      "2025-04-26 03:43:16.138009: I tensorflow/core/platform/cpu_feature_guard.cc:210] This TensorFlow binary is optimized to use available CPU instructions in performance-critical operations.\n",
      "To enable the following instructions: AVX2 FMA, in other operations, rebuild TensorFlow with the appropriate compiler flags.\n",
      "\u001b[34m\u001b[1mwandb\u001b[0m: Using wandb-core as the SDK backend.  Please refer to https://wandb.me/wandb-core for more information.\n",
      "\u001b[34m\u001b[1mwandb\u001b[0m: (1) Create a W&B account\n",
      "\u001b[34m\u001b[1mwandb\u001b[0m: (2) Use an existing W&B account\n",
      "\u001b[34m\u001b[1mwandb\u001b[0m: (3) Don't visualize my results\n",
      "\u001b[34m\u001b[1mwandb\u001b[0m: Enter your choice: 2\n",
      "\u001b[34m\u001b[1mwandb\u001b[0m: You chose 'Use an existing W&B account'\n",
      "\u001b[34m\u001b[1mwandb\u001b[0m: Logging into wandb.ai. (Learn how to deploy a W&B server locally: https://wandb.me/wandb-server)\n",
      "\u001b[34m\u001b[1mwandb\u001b[0m: You can find your API key in your browser here: https://wandb.ai/authorize\n",
      "\u001b[34m\u001b[1mwandb\u001b[0m: Paste an API key from your profile and hit enter, or press ctrl+c to quit: \n",
      "\u001b[34m\u001b[1mwandb\u001b[0m: No netrc file found, creating one.\n",
      "\u001b[34m\u001b[1mwandb\u001b[0m: Appending key for api.wandb.ai to your netrc file: /root/.netrc\n",
      "\u001b[34m\u001b[1mwandb\u001b[0m: Currently logged in as: \u001b[33mkausarpatherya\u001b[0m (\u001b[33mkausarpatherya-georgia-institute-of-technology\u001b[0m) to \u001b[32mhttps://api.wandb.ai\u001b[0m. Use \u001b[1m`wandb login --relogin`\u001b[0m to force relogin\n",
      "\u001b[34m\u001b[1mwandb\u001b[0m: Tracking run with wandb version 0.19.9\n",
      "\u001b[34m\u001b[1mwandb\u001b[0m: Run data is saved locally in \u001b[35m\u001b[1m/content/drive/MyDrive/diffusionpolicy/wandb/run-20250426_041158-9sy30tah\u001b[0m\n",
      "\u001b[34m\u001b[1mwandb\u001b[0m: Run \u001b[1m`wandb offline`\u001b[0m to turn off syncing.\n",
      "\u001b[34m\u001b[1mwandb\u001b[0m: Syncing run \u001b[33mdiffusion_policy-PushT-v1-rgbd-mod-00_rl_demos-\u001b[0m\n",
      "\u001b[34m\u001b[1mwandb\u001b[0m: ⭐️ View project at \u001b[34m\u001b[4mhttps://wandb.ai/kausarpatherya-georgia-institute-of-technology/ManiSkill\u001b[0m\n",
      "\u001b[34m\u001b[1mwandb\u001b[0m: 🚀 View run at \u001b[34m\u001b[4mhttps://wandb.ai/kausarpatherya-georgia-institute-of-technology/ManiSkill/runs/9sy30tah\u001b[0m\n",
      "[2025-04-26 04:12:01.195] [SAPIEN] [\u001b[33m\u001b[1mwarning\u001b[m] A PhysX CPU system is being created while PhysX GPU is enabled. You can safely ignore this message if it is intended. To use GPU PhysX, create a sapien.physx.PhysxGpuSystem explicitly and pass it to sapien.Scene constructor.\n",
      "Loading HDF5 file /root/.maniskill/demos/PushT-v1/rl/trajectory.rgbd.pd_ee_delta_pos.physx_cuda.h5\n",
      "Loaded\n",
      "Load observations 600 <class 'dict'>\n",
      "Load actions 600 <class 'numpy.ndarray'>\n",
      "Raw trajectory loaded, beginning observation pre-processing...\n",
      "Obs/action pre-processing is done, start to pre-compute the slice indices...\n",
      "Detected a delta controller type, padding with a zero action to ensure the arm stays still after solving tasks.\n",
      "Total transitions: 57236, Total obs sequences: 56636\n",
      "number of parameters: 6.07M\n",
      "number of parameters: 6.07M\n",
      "  0% 0/30000 [00:00<?, ?it/s]\n",
      "  0% 0/100 [00:00<?, ?it/s]\u001b[A\n",
      " 10% 10/100 [02:32<22:51, 15.24s/it]\u001b[A\n",
      " 20% 20/100 [04:59<19:52, 14.90s/it]\u001b[A\n",
      " 30% 30/100 [07:27<17:21, 14.87s/it]\u001b[A\n",
      " 40% 40/100 [09:55<14:51, 14.85s/it]\u001b[A\n",
      " 50% 50/100 [12:23<12:20, 14.82s/it]\u001b[A\n",
      " 60% 60/100 [14:51<09:52, 14.82s/it]\u001b[A\n",
      " 70% 70/100 [17:20<07:25, 14.84s/it]\u001b[A\n",
      " 80% 80/100 [19:47<04:56, 14.82s/it]\u001b[A\n",
      " 90% 90/100 [22:16<02:28, 14.83s/it]\u001b[A\n",
      "100% 100/100 [24:46<00:00, 14.86s/it]\n",
      "Evaluated 10 episodes\n",
      "success_once: 0.0000\n",
      "return: 0.0000\n",
      "episode_len: 100.0000\n",
      "reward: 0.0000\n",
      "success_at_end: 0.0000\n",
      " 17% 5000/30000 [46:21<1:46:24,  3.92it/s, loss=0.0548]\n",
      "  0% 0/100 [00:00<?, ?it/s]\u001b[A\n",
      " 10% 10/100 [02:28<22:19, 14.89s/it]\u001b[A\n",
      " 20% 20/100 [04:57<19:50, 14.88s/it]\u001b[A\n",
      " 30% 30/100 [07:26<17:23, 14.90s/it]\u001b[A\n",
      " 40% 40/100 [09:54<14:50, 14.85s/it]\u001b[A\n",
      " 50% 50/100 [12:24<12:25, 14.92s/it]\u001b[A"
     ]
    }
   ],
   "source": [
    "seed=1\n",
    "demos=100\n",
    "\n",
    "# add your tensorboard code above\n",
    "\n",
    "!python train_rgbd_steering.py --env-id PushT-v1 \\\n",
    "  --demo-path /root/.maniskill/demos/PushT-v1/rl/trajectory.rgbd.pd_ee_delta_pos.physx_cuda.h5 \\\n",
    "  --control-mode \"pd_ee_delta_pos\" --sim-backend \"physx_cuda\" --num-demos ${demos} --max_episode_steps 100 \\\n",
    "  --total_iters 30000 --num_demos 600 \\\n",
    "  --exp-name diffusion_policy-PushT-v1-rgbd-steer-${demos}_rl_demos-${seed} \\\n",
    "  --track # track training on wandb"
   ]
  }
 ],
 "metadata": {
  "accelerator": "GPU",
  "colab": {
   "authorship_tag": "ABX9TyNGyah3rS+mnIHkm6q9vwcM",
   "gpuType": "T4",
   "name": "",
   "version": ""
  },
  "kernelspec": {
   "display_name": "Python 3",
   "name": "python3"
  },
  "language_info": {
   "name": "python"
  }
 },
 "nbformat": 4,
 "nbformat_minor": 0
}
